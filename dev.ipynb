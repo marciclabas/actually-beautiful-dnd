{
 "cells": [
  {
   "cell_type": "code",
   "execution_count": 13,
   "metadata": {},
   "outputs": [
    {
     "data": {
      "text/plain": [
       "[ [], [], [], [], [] ]"
      ]
     },
     "execution_count": 13,
     "metadata": {},
     "output_type": "execute_result"
    }
   ],
   "source": [
    "export function range(n: number): number[];\n",
    "export function range(start: number, n: number): number[];\n",
    "export function range(a: number, b?: number) {\n",
    "  if (b && a > b)\n",
    "    return []\n",
    "  const n = b ? b-a : a\n",
    "  const delta = b ? a : 0\n",
    "  return new Array(n).fill(0).map((_, i) => i + delta)\n",
    "}\n",
    "\n",
    "function emptyOrder(numItems: number, numLists: number): number[][] {\n",
    "  if (numLists === 0)\n",
    "    return []\n",
    "  return [range(numItems), ...range(1, numLists).map(() => [])]\n",
    "}\n",
    "\n",
    "emptyOrder(0, 5)"
   ]
  }
 ],
 "metadata": {
  "kernelspec": {
   "display_name": "Deno",
   "language": "typescript",
   "name": "deno"
  },
  "language_info": {
   "file_extension": ".ts",
   "mimetype": "text/x.typescript",
   "name": "typescript",
   "nb_converter": "script",
   "pygments_lexer": "typescript",
   "version": "5.2.2"
  }
 },
 "nbformat": 4,
 "nbformat_minor": 2
}
