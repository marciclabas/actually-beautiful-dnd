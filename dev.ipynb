{
 "cells": [
  {
   "cell_type": "code",
   "execution_count": 9,
   "metadata": {},
   "outputs": [
    {
     "ename": "{\"code\":-32000,\"message\":\"Promise was collected\"}",
     "evalue": " ",
     "output_type": "error",
     "traceback": []
    },
    {
     "name": "stdout",
     "output_type": "stream",
     "text": [
      "76 19\n"
     ]
    }
   ],
   "source": [
    "export function* range(n: number) {\n",
    "  for (let i = 0; i < n; i++)\n",
    "    yield i\n",
    "}\n",
    "\n",
    "export function range2(n: number) {\n",
    "  return new Array(n).fill(0).map((_, i) => i)\n",
    "}\n",
    "\n",
    "const N = 1e6\n",
    "const t0 = Date.now()\n",
    "const xs = [...range(N)]\n",
    "const t1 = Date.now()\n",
    "const ys = range2(N)\n",
    "const t2 = Date.now()\n",
    "console.log(t1-t0, t2-t1)"
   ]
  }
 ],
 "metadata": {
  "kernelspec": {
   "display_name": "Deno",
   "language": "typescript",
   "name": "deno"
  },
  "language_info": {
   "file_extension": ".ts",
   "mimetype": "text/x.typescript",
   "name": "typescript",
   "nb_converter": "script",
   "pygments_lexer": "typescript",
   "version": "5.2.2"
  }
 },
 "nbformat": 4,
 "nbformat_minor": 2
}
