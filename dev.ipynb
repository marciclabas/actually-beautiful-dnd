{
 "cells": [
  {
   "cell_type": "code",
   "execution_count": 3,
   "metadata": {},
   "outputs": [
    {
     "data": {
      "text/plain": [
       "[ \u001b[33m2\u001b[39m, \u001b[33m0\u001b[39m, \u001b[33m1\u001b[39m, \u001b[33m3\u001b[39m ]"
      ]
     },
     "execution_count": 3,
     "metadata": {},
     "output_type": "execute_result"
    }
   ],
   "source": [
    "export function reorder(order: number[], from: number, to: number): number[] {\n",
    "  const newOrder = [...order]\n",
    "  const [removed] = newOrder.splice(from, 1)\n",
    "  newOrder.splice(to, 0, removed)\n",
    "  return newOrder\n",
    "}\n",
    "\n",
    "\n",
    "reorder([0, 1, 2, 3], 2, 0)"
   ]
  }
 ],
 "metadata": {
  "kernelspec": {
   "display_name": "Deno",
   "language": "typescript",
   "name": "deno"
  },
  "language_info": {
   "file_extension": ".ts",
   "mimetype": "text/x.typescript",
   "name": "typescript",
   "nb_converter": "script",
   "pygments_lexer": "typescript",
   "version": "5.2.2"
  }
 },
 "nbformat": 4,
 "nbformat_minor": 2
}
